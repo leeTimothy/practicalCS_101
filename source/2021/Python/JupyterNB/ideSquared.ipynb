{
 "cells": [
  {
   "cell_type": "markdown",
   "metadata": {},
   "source": [
    "# Jupyter Notebook\n",
    "\n",
    "Welcome to the first lesson in the Python Series. This is not going to be focused on Python in a very technical way but more so on Jupyter Notebook - a fantasic Interactive Tool for rapidly developing code.\n",
    "\n",
    "Jupyter Notebook is notable (ha.) popular amongst Data Scientists (from junior to senior) for its ease of representing information and data in a way which can be ingested by both Technical and Non-Technical Individuals.\n",
    "\n",
    "This is also the reason why I have chosen Jupyter Notebook to teach some Python Fundamentals.\n",
    "\n",
    "## OK - so what is Jupyter Notebook?\n",
    "\n",
    "Before we jump into the answer of that question - a couple of high level concepts first!\n",
    "\n",
    "### Kernel\n",
    "\n",
    "A Kernel is a self contained instance of Python. That is to say - whenever you run *any* Python code - a Kernel is created for the code to run within - and once done - terminates and closes itself (unless otherwise instructed to)\n",
    "\n",
    "Think of the Kernel as the playground set which is open for kids (your code) to play in. Once they are done playing in it - the Playground closes down, waiting for the next set of kids to come along.\n",
    "\n"
   ]
  },
  {
   "cell_type": "markdown",
   "metadata": {},
   "source": []
  }
 ],
 "metadata": {
  "language_info": {
   "name": "python"
  },
  "orig_nbformat": 4
 },
 "nbformat": 4,
 "nbformat_minor": 2
}
