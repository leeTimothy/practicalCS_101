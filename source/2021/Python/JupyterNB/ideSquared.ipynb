{
 "cells": [
  {
   "cell_type": "markdown",
   "metadata": {},
   "source": [
    "# Jupyter Notebook\n",
    "\n",
    "Welcome to the first lesson in the Python Series. This is not going to be focused on Python in a very technical way but more so on Jupyter Notebook - a fantasic Interactive Tool for rapidly developing code.\n",
    "\n",
    "Jupyter Notebook is notable (ha.) popular amongst Data Scientists (from junior to senior) for its ease of representing information and data in a way which can be ingested by both Technical and Non-Technical Individuals.\n",
    "\n",
    "This is also the reason why I have chosen Jupyter Notebook to teach some Python Fundamentals.\n",
    "\n",
    "## OK - so what is Jupyter Notebook?\n",
    "\n",
    "Before we jump into the answer of that question - a couple of high level concepts first!\n",
    "\n",
    "### Kernel\n",
    "\n",
    "A Kernel is a self contained instance of Python. That is to say - whenever you run *any* Python code - a Kernel is created for the code to run within - and once done - terminates and closes itself (unless otherwise instructed to)\n",
    "\n",
    "Think of a Kernel as a table at a fancy restaurant that only takes 1 sitting a night. The code can be though of as the guests and when they come in - they eat their food (run their code) and when they're done - they leave and the restaurant cleans up and closes - until the next set of guests come along. For the guests themselves - the restaurant (the kernel) makes sure that *nothing* from the previous guests is available to the current or the next guests and vice versa - self contained!\n",
    "\n",
    "### Interactive Development Environment (IDE)\n",
    "\n",
    "An Interactive Development Environment or IDE is something which code developers (like yourself now!) use to develop code. They usually contain handy dandy features to make coding easier (like autocompletion, formatting, amongst others). As mentioned previously - Jupyter Notebook was popularized (don't quote me on it) by Data Scientists as it let them write code as well as provide presentable notes (like this) to audiences - allowing them to easily show results and presentations around the notes side by side.\n",
    "\n",
    "## So I know what an IDE and a Kernel is... so what is Jupyter Notebook\n",
    "\n",
    "Jupyter Notebook is effectively a wrapper around a *persistent* Python Kernel. That is to say - when we run code in Jupyter Notebook - whatever we had run - doesn't go away - it stays available in the Kernel as the Kernel has received specific instruction to not terminate after code has been run. This might seem trivial - but in practise - this makes it *extremely* powerful as a tool as it allows me as a code devloper to insert myself at specific points and view what exactly is going on so that I can better understand what it is that I am writing as well as troubleshoot effectively if I have written bad code.\n",
    "\n",
    "![asdf](source/2021/assets/Pure Python vs Jupyter Notebook.drawio.png)\n"
   ]
  },
  {
   "cell_type": "markdown",
   "metadata": {},
   "source": []
  }
 ],
 "metadata": {
  "language_info": {
   "name": "python"
  },
  "orig_nbformat": 4
 },
 "nbformat": 4,
 "nbformat_minor": 2
}
