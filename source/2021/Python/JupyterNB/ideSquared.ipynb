{
 "cells": [
  {
   "cell_type": "markdown",
   "metadata": {},
   "source": [
    "# Jupyter Notebook\n",
    "\n",
    "Welcome to the first lesson in the Python Series. This is not going to be focused on Python in a very technical way but more so on Jupyter Notebook - a fantasic Interactive Tool for rapidly developing code.\n",
    "\n",
    "Jupyter Notebook is notable (ha.) popular amongst Data Scientists (from junior to senior) for its ease of representing information and data in a way which can be ingested by both Technical and Non-Technical Individuals.\n",
    "\n",
    "This is also the reason why I have chosen Jupyter Notebook to teach some Python Fundamentals."
   ]
  },
  {
   "cell_type": "markdown",
   "metadata": {},
   "source": []
  }
 ],
 "metadata": {
  "language_info": {
   "name": "python"
  },
  "orig_nbformat": 4
 },
 "nbformat": 4,
 "nbformat_minor": 2
}
