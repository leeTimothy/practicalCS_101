{
 "cells": [
  {
   "cell_type": "markdown",
   "source": [
    "# The Jupyter Notebook Version of the hellowworld.py!\r\n",
    "\r\n",
    "## As before - write down everything you know about python with working examples!"
   ],
   "metadata": {}
  },
  {
   "cell_type": "code",
   "execution_count": null,
   "source": [],
   "outputs": [],
   "metadata": {}
  }
 ],
 "metadata": {
  "orig_nbformat": 4,
  "language_info": {
   "name": "python",
   "version": "3.9.6",
   "mimetype": "text/x-python",
   "codemirror_mode": {
    "name": "ipython",
    "version": 3
   },
   "pygments_lexer": "ipython3",
   "nbconvert_exporter": "python",
   "file_extension": ".py"
  },
  "kernelspec": {
   "name": "python3",
   "display_name": "Python 3.9.6 64-bit"
  },
  "interpreter": {
   "hash": "e05cdb7519027c5e37c3849702eebd47e6570270cb224c1ba3667ea9d461aec1"
  }
 },
 "nbformat": 4,
 "nbformat_minor": 2
}